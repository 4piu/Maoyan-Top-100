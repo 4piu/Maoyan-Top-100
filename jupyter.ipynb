{
 "cells": [
  {
   "cell_type": "markdown",
   "id": "35dabf68-daeb-4c6c-a895-7395ca3f1147",
   "metadata": {},
   "source": [
    "# Crawl Top 100 Movies"
   ]
  },
  {
   "cell_type": "markdown",
   "id": "277fb5a4-4f08-46b4-ab33-5d1764900186",
   "metadata": {},
   "source": [
    "## Install Dependencies"
   ]
  },
  {
   "cell_type": "markdown",
   "id": "f80176fe-4a8b-4f72-a1fa-e6c14d63cb51",
   "metadata": {},
   "source": [
    "It is recommended to run this jupyter notebook in virtual environment to avoid dependency issues"
   ]
  },
  {
   "cell_type": "code",
   "execution_count": null,
   "id": "abcec53b",
   "metadata": {
    "tags": []
   },
   "outputs": [],
   "source": [
    "!pip install scrapy"
   ]
  },
  {
   "cell_type": "markdown",
   "id": "a9ee4ea2-3dc0-456b-8342-e190ad97b500",
   "metadata": {
    "tags": []
   },
   "source": [
    "## Run Crawler"
   ]
  },
  {
   "cell_type": "markdown",
   "id": "de3bdf7e-0044-410c-9e4c-a6f41ca4bae8",
   "metadata": {
    "tags": []
   },
   "source": [
    "The confiuration file is `maoyan/settings.py`\n",
    "\n",
    "To avoid captcha, the request concurrency is limited to 1, and a 3 seconds delay is added after each request\n",
    "\n",
    "HTTP cache is set to 30 days for testing\n",
    "\n",
    "Without cache, the crawling can take up minutes"
   ]
  },
  {
   "cell_type": "code",
   "execution_count": null,
   "id": "4c23624e-56f7-43fa-97de-5cadc4f5c1c8",
   "metadata": {},
   "outputs": [],
   "source": [
    "!scrapy crawl -O top100.csv top_100"
   ]
  },
  {
   "cell_type": "markdown",
   "id": "573344f6-1d4b-4325-9e28-66825b8aa2e7",
   "metadata": {
    "tags": []
   },
   "source": [
    "# Data Analysis"
   ]
  },
  {
   "cell_type": "markdown",
   "id": "7a83e732-1ef2-40ca-beed-eee56cf57a99",
   "metadata": {},
   "source": [
    "## Install Dependencies"
   ]
  },
  {
   "cell_type": "code",
   "execution_count": null,
   "id": "d5610515-84f4-46fc-b2cd-78ed36f4ffe8",
   "metadata": {
    "tags": []
   },
   "outputs": [],
   "source": [
    "!pip install pandas seaborn"
   ]
  },
  {
   "cell_type": "markdown",
   "id": "e4b978ed-b851-427d-bfba-23c5415c39ad",
   "metadata": {},
   "source": [
    "## Read the CSV file"
   ]
  },
  {
   "cell_type": "code",
   "execution_count": null,
   "id": "a3292a96-fbc0-401d-83ea-ca4702f698eb",
   "metadata": {
    "tags": []
   },
   "outputs": [],
   "source": [
    "import pandas as pd\n",
    "top_100 = pd.read_csv('top100.csv')"
   ]
  },
  {
   "cell_type": "markdown",
   "id": "cb8111cf-da5f-4bb6-a815-4c58567ddeef",
   "metadata": {},
   "source": [
    "## Draw Plots"
   ]
  },
  {
   "cell_type": "code",
   "execution_count": null,
   "id": "a8b66d9b",
   "metadata": {
    "tags": []
   },
   "outputs": [],
   "source": [
    "import seaborn as sns\n",
    "df = sns.load_dataset(\"penguins\")\n",
    "sns.pairplot(df, hue=\"species\")"
   ]
  }
 ],
 "metadata": {
  "kernelspec": {
   "display_name": "Python 3 (ipykernel)",
   "language": "python",
   "name": "python3"
  },
  "language_info": {
   "codemirror_mode": {
    "name": "ipython",
    "version": 3
   },
   "file_extension": ".py",
   "mimetype": "text/x-python",
   "name": "python",
   "nbconvert_exporter": "python",
   "pygments_lexer": "ipython3",
   "version": "3.9.7"
  }
 },
 "nbformat": 4,
 "nbformat_minor": 5
}
