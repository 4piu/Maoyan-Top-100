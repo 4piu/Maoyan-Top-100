{
 "cells": [
  {
   "cell_type": "markdown",
   "id": "35dabf68-daeb-4c6c-a895-7395ca3f1147",
   "metadata": {},
   "source": [
    "# Crawl Top 100 Movies"
   ]
  },
  {
   "cell_type": "markdown",
   "id": "277fb5a4-4f08-46b4-ab33-5d1764900186",
   "metadata": {},
   "source": [
    "## Install Dependencies"
   ]
  },
  {
   "cell_type": "markdown",
   "id": "f80176fe-4a8b-4f72-a1fa-e6c14d63cb51",
   "metadata": {},
   "source": [
    "It is recommended to run this jupyter notebook in virtual environment to avoid dependency issues"
   ]
  },
  {
   "cell_type": "code",
   "execution_count": null,
   "id": "abcec53b",
   "metadata": {
    "tags": []
   },
   "outputs": [],
   "source": [
    "!pip install scrapy"
   ]
  },
  {
   "cell_type": "markdown",
   "id": "a9ee4ea2-3dc0-456b-8342-e190ad97b500",
   "metadata": {
    "tags": []
   },
   "source": [
    "## Run Crawler"
   ]
  },
  {
   "cell_type": "markdown",
   "id": "de3bdf7e-0044-410c-9e4c-a6f41ca4bae8",
   "metadata": {
    "tags": []
   },
   "source": [
    "The confiuration file is `maoyan/settings.py`\n",
    "\n",
    "To avoid captcha, the request concurrency is limited to 1, and a 3 seconds delay is added after each request\n",
    "\n",
    "HTTP cache is set to 30 days for testing\n",
    "\n",
    "Without cache, the crawling can take up minutes"
   ]
  },
  {
   "cell_type": "code",
   "execution_count": null,
   "id": "4c23624e-56f7-43fa-97de-5cadc4f5c1c8",
   "metadata": {},
   "outputs": [],
   "source": [
    "!scrapy crawl --loglevel=INFO -O top100.csv top_100"
   ]
  },
  {
   "cell_type": "markdown",
   "id": "573344f6-1d4b-4325-9e28-66825b8aa2e7",
   "metadata": {
    "tags": []
   },
   "source": [
    "# Data Analysis"
   ]
  },
  {
   "cell_type": "markdown",
   "id": "7a83e732-1ef2-40ca-beed-eee56cf57a99",
   "metadata": {},
   "source": [
    "## Install Dependencies"
   ]
  },
  {
   "cell_type": "code",
   "execution_count": null,
   "id": "d5610515-84f4-46fc-b2cd-78ed36f4ffe8",
   "metadata": {
    "tags": []
   },
   "outputs": [],
   "source": [
    "!pip install pandas seaborn"
   ]
  },
  {
   "cell_type": "markdown",
   "id": "e4b978ed-b851-427d-bfba-23c5415c39ad",
   "metadata": {},
   "source": [
    "## Read the CSV file"
   ]
  },
  {
   "cell_type": "code",
   "execution_count": 7,
   "id": "a3292a96-fbc0-401d-83ea-ca4702f698eb",
   "metadata": {
    "tags": []
   },
   "outputs": [
    {
     "data": {
      "text/html": [
       "<div>\n",
       "<style scoped>\n",
       "    .dataframe tbody tr th:only-of-type {\n",
       "        vertical-align: middle;\n",
       "    }\n",
       "\n",
       "    .dataframe tbody tr th {\n",
       "        vertical-align: top;\n",
       "    }\n",
       "\n",
       "    .dataframe thead th {\n",
       "        text-align: right;\n",
       "    }\n",
       "</style>\n",
       "<table border=\"1\" class=\"dataframe\">\n",
       "  <thead>\n",
       "    <tr style=\"text-align: right;\">\n",
       "      <th></th>\n",
       "      <th>box_first_week</th>\n",
       "      <th>box_sum</th>\n",
       "      <th>celebrity</th>\n",
       "      <th>date</th>\n",
       "      <th>honor_count</th>\n",
       "      <th>length</th>\n",
       "      <th>name_alt</th>\n",
       "      <th>name_cn</th>\n",
       "      <th>nomination_count</th>\n",
       "      <th>poster</th>\n",
       "      <th>rank</th>\n",
       "      <th>region</th>\n",
       "      <th>score</th>\n",
       "      <th>tag</th>\n",
       "      <th>url</th>\n",
       "    </tr>\n",
       "  </thead>\n",
       "  <tbody>\n",
       "    <tr>\n",
       "      <th>0</th>\n",
       "      <td>&lt;NA&gt;</td>\n",
       "      <td>&lt;NA&gt;</td>\n",
       "      <td>{'导演': ['罗伯·莱纳'], '演员': ['玛德琳·卡罗尔', '卡兰·麦克奥利菲'...</td>\n",
       "      <td>2010-07-26</td>\n",
       "      <td>&lt;NA&gt;</td>\n",
       "      <td>90</td>\n",
       "      <td>Flipped</td>\n",
       "      <td>怦然心动</td>\n",
       "      <td>&lt;NA&gt;</td>\n",
       "      <td>https://p0.meituan.net/movie/15f1ac49b6d1ff7b7...</td>\n",
       "      <td>10</td>\n",
       "      <td>[美国]</td>\n",
       "      <td>8.9</td>\n",
       "      <td>[爱情]</td>\n",
       "      <td>https://www.maoyan.com/films/46818</td>\n",
       "    </tr>\n",
       "    <tr>\n",
       "      <th>1</th>\n",
       "      <td>&lt;NA&gt;</td>\n",
       "      <td>&lt;NA&gt;</td>\n",
       "      <td>{'导演': ['吕克·贝松'], '演员': ['让·雷诺', '加里·奥德曼', '娜塔...</td>\n",
       "      <td>1994-09-14</td>\n",
       "      <td>0</td>\n",
       "      <td>110</td>\n",
       "      <td>Léon</td>\n",
       "      <td>这个杀手不太冷</td>\n",
       "      <td>9</td>\n",
       "      <td>https://p1.meituan.net/movie/6bea9af4524dfbd0b...</td>\n",
       "      <td>9</td>\n",
       "      <td>[法国]</td>\n",
       "      <td>9.4</td>\n",
       "      <td>[剧情, 动作, 犯罪]</td>\n",
       "      <td>https://www.maoyan.com/films/4055</td>\n",
       "    </tr>\n",
       "    <tr>\n",
       "      <th>2</th>\n",
       "      <td>2380</td>\n",
       "      <td>5979</td>\n",
       "      <td>{'导演': ['罗伯托·贝尼尼'], '演员': ['罗伯托·贝尼尼', '朱斯蒂诺·杜拉...</td>\n",
       "      <td>2020-01-03</td>\n",
       "      <td>24</td>\n",
       "      <td>116</td>\n",
       "      <td>La vita è bella</td>\n",
       "      <td>美丽人生</td>\n",
       "      <td>16</td>\n",
       "      <td>https://p1.meituan.net/movie/580d81a2c78bf204f...</td>\n",
       "      <td>8</td>\n",
       "      <td>[意大利]</td>\n",
       "      <td>9.3</td>\n",
       "      <td>[战争, 剧情, 爱情]</td>\n",
       "      <td>https://www.maoyan.com/films/1303</td>\n",
       "    </tr>\n",
       "    <tr>\n",
       "      <th>3</th>\n",
       "      <td>4840</td>\n",
       "      <td>9675</td>\n",
       "      <td>{'导演': ['是枝裕和'], '演员': ['中川雅也', '安藤樱', '松冈茉优',...</td>\n",
       "      <td>2018-08-03</td>\n",
       "      <td>19</td>\n",
       "      <td>121</td>\n",
       "      <td>万引き家族</td>\n",
       "      <td>小偷家族</td>\n",
       "      <td>32</td>\n",
       "      <td>https://p1.meituan.net/movie/ac8f0004928fbce5a...</td>\n",
       "      <td>7</td>\n",
       "      <td>[日本]</td>\n",
       "      <td>8.1</td>\n",
       "      <td>[剧情, 犯罪]</td>\n",
       "      <td>https://www.maoyan.com/films/1216365</td>\n",
       "    </tr>\n",
       "    <tr>\n",
       "      <th>4</th>\n",
       "      <td>&lt;NA&gt;</td>\n",
       "      <td>5</td>\n",
       "      <td>{'导演': ['陈凯歌'], '演员': ['张国荣', '张丰毅', '巩俐', '吕齐...</td>\n",
       "      <td>1993-07-26</td>\n",
       "      <td>5</td>\n",
       "      <td>171</td>\n",
       "      <td>Farewell My Concubine</td>\n",
       "      <td>霸王别姬</td>\n",
       "      <td>3</td>\n",
       "      <td>https://p0.meituan.net/movie/61fea77024f83b370...</td>\n",
       "      <td>6</td>\n",
       "      <td>[中国大陆, 中国香港]</td>\n",
       "      <td>9.4</td>\n",
       "      <td>[剧情, 爱情]</td>\n",
       "      <td>https://www.maoyan.com/films/1203</td>\n",
       "    </tr>\n",
       "    <tr>\n",
       "      <th>...</th>\n",
       "      <td>...</td>\n",
       "      <td>...</td>\n",
       "      <td>...</td>\n",
       "      <td>...</td>\n",
       "      <td>...</td>\n",
       "      <td>...</td>\n",
       "      <td>...</td>\n",
       "      <td>...</td>\n",
       "      <td>...</td>\n",
       "      <td>...</td>\n",
       "      <td>...</td>\n",
       "      <td>...</td>\n",
       "      <td>...</td>\n",
       "      <td>...</td>\n",
       "      <td>...</td>\n",
       "    </tr>\n",
       "    <tr>\n",
       "      <th>95</th>\n",
       "      <td>&lt;NA&gt;</td>\n",
       "      <td>&lt;NA&gt;</td>\n",
       "      <td>{'导演': ['拉斯·霍尔斯道姆'], '演员': ['Forest', '理查·基尔',...</td>\n",
       "      <td>2009-06-13</td>\n",
       "      <td>&lt;NA&gt;</td>\n",
       "      <td>93</td>\n",
       "      <td>Hachi: A Dog's Tale</td>\n",
       "      <td>忠犬八公的故事</td>\n",
       "      <td>&lt;NA&gt;</td>\n",
       "      <td>https://p1.meituan.net/movie/8236183afcf1bd0ff...</td>\n",
       "      <td>24</td>\n",
       "      <td>[美国, 英国]</td>\n",
       "      <td>9.3</td>\n",
       "      <td>[剧情]</td>\n",
       "      <td>https://www.maoyan.com/films/38286</td>\n",
       "    </tr>\n",
       "    <tr>\n",
       "      <th>96</th>\n",
       "      <td>&lt;NA&gt;</td>\n",
       "      <td>&lt;NA&gt;</td>\n",
       "      <td>{'导演': ['托德·菲利普斯'], '演员': ['华金·菲尼克斯', '罗伯特·德尼罗...</td>\n",
       "      <td>2019-10-04</td>\n",
       "      <td>17</td>\n",
       "      <td>122</td>\n",
       "      <td>Joker</td>\n",
       "      <td>小丑</td>\n",
       "      <td>47</td>\n",
       "      <td>https://p0.meituan.net/moviemachine/7707dc3478...</td>\n",
       "      <td>23</td>\n",
       "      <td>[美国]</td>\n",
       "      <td>8.6</td>\n",
       "      <td>[剧情, 惊悚, 犯罪]</td>\n",
       "      <td>https://www.maoyan.com/films/1215201</td>\n",
       "    </tr>\n",
       "    <tr>\n",
       "      <th>97</th>\n",
       "      <td>10263</td>\n",
       "      <td>57288</td>\n",
       "      <td>{'导演': ['李安'], '演员': ['苏拉·沙玛', '伊尔凡·可汗', '塔布',...</td>\n",
       "      <td>2012-11-22</td>\n",
       "      <td>26</td>\n",
       "      <td>127</td>\n",
       "      <td>Life of Pi</td>\n",
       "      <td>少年派的奇幻漂流</td>\n",
       "      <td>52</td>\n",
       "      <td>https://p0.meituan.net/movie/cac99bd00d40586dc...</td>\n",
       "      <td>22</td>\n",
       "      <td>[美国, 中国台湾, 英国, 加拿大]</td>\n",
       "      <td>9.0</td>\n",
       "      <td>[剧情, 奇幻, 冒险]</td>\n",
       "      <td>https://www.maoyan.com/films/995</td>\n",
       "    </tr>\n",
       "    <tr>\n",
       "      <th>98</th>\n",
       "      <td>17036</td>\n",
       "      <td>37684</td>\n",
       "      <td>{'导演': ['娜丁·拉巴基'], '演员': ['赞恩·阿尔·拉菲亚', '约丹诺斯·希...</td>\n",
       "      <td>2019-04-29</td>\n",
       "      <td>2</td>\n",
       "      <td>116</td>\n",
       "      <td>كفرناحوم</td>\n",
       "      <td>何以为家</td>\n",
       "      <td>13</td>\n",
       "      <td>https://p1.meituan.net/movie/d28b729ffe72353a7...</td>\n",
       "      <td>21</td>\n",
       "      <td>[黎巴嫩]</td>\n",
       "      <td>9.3</td>\n",
       "      <td>[剧情]</td>\n",
       "      <td>https://www.maoyan.com/films/1218727</td>\n",
       "    </tr>\n",
       "    <tr>\n",
       "      <th>99</th>\n",
       "      <td>&lt;NA&gt;</td>\n",
       "      <td>49620</td>\n",
       "      <td>{'导演': ['克里斯托弗·诺兰'], '演员': ['莱昂纳多·迪卡普里奥', '渡边谦...</td>\n",
       "      <td>2010-09-01</td>\n",
       "      <td>40</td>\n",
       "      <td>148</td>\n",
       "      <td>Inception</td>\n",
       "      <td>盗梦空间</td>\n",
       "      <td>53</td>\n",
       "      <td>https://p0.meituan.net/moviemachine/c2496a7290...</td>\n",
       "      <td>11</td>\n",
       "      <td>[美国, 英国]</td>\n",
       "      <td>9.0</td>\n",
       "      <td>[动作, 悬疑, 惊悚, 科幻]</td>\n",
       "      <td>https://www.maoyan.com/films/416</td>\n",
       "    </tr>\n",
       "  </tbody>\n",
       "</table>\n",
       "<p>100 rows × 15 columns</p>\n",
       "</div>"
      ],
      "text/plain": [
       "    box_first_week  box_sum  \\\n",
       "0             <NA>     <NA>   \n",
       "1             <NA>     <NA>   \n",
       "2             2380     5979   \n",
       "3             4840     9675   \n",
       "4             <NA>        5   \n",
       "..             ...      ...   \n",
       "95            <NA>     <NA>   \n",
       "96            <NA>     <NA>   \n",
       "97           10263    57288   \n",
       "98           17036    37684   \n",
       "99            <NA>    49620   \n",
       "\n",
       "                                            celebrity       date  honor_count  \\\n",
       "0   {'导演': ['罗伯·莱纳'], '演员': ['玛德琳·卡罗尔', '卡兰·麦克奥利菲'... 2010-07-26         <NA>   \n",
       "1   {'导演': ['吕克·贝松'], '演员': ['让·雷诺', '加里·奥德曼', '娜塔... 1994-09-14            0   \n",
       "2   {'导演': ['罗伯托·贝尼尼'], '演员': ['罗伯托·贝尼尼', '朱斯蒂诺·杜拉... 2020-01-03           24   \n",
       "3   {'导演': ['是枝裕和'], '演员': ['中川雅也', '安藤樱', '松冈茉优',... 2018-08-03           19   \n",
       "4   {'导演': ['陈凯歌'], '演员': ['张国荣', '张丰毅', '巩俐', '吕齐... 1993-07-26            5   \n",
       "..                                                ...        ...          ...   \n",
       "95  {'导演': ['拉斯·霍尔斯道姆'], '演员': ['Forest', '理查·基尔',... 2009-06-13         <NA>   \n",
       "96  {'导演': ['托德·菲利普斯'], '演员': ['华金·菲尼克斯', '罗伯特·德尼罗... 2019-10-04           17   \n",
       "97  {'导演': ['李安'], '演员': ['苏拉·沙玛', '伊尔凡·可汗', '塔布',... 2012-11-22           26   \n",
       "98  {'导演': ['娜丁·拉巴基'], '演员': ['赞恩·阿尔·拉菲亚', '约丹诺斯·希... 2019-04-29            2   \n",
       "99  {'导演': ['克里斯托弗·诺兰'], '演员': ['莱昂纳多·迪卡普里奥', '渡边谦... 2010-09-01           40   \n",
       "\n",
       "    length               name_alt   name_cn  nomination_count  \\\n",
       "0       90                Flipped      怦然心动              <NA>   \n",
       "1      110                   Léon   这个杀手不太冷                 9   \n",
       "2      116        La vita è bella      美丽人生                16   \n",
       "3      121                  万引き家族      小偷家族                32   \n",
       "4      171  Farewell My Concubine      霸王别姬                 3   \n",
       "..     ...                    ...       ...               ...   \n",
       "95      93    Hachi: A Dog's Tale   忠犬八公的故事              <NA>   \n",
       "96     122                  Joker        小丑                47   \n",
       "97     127             Life of Pi  少年派的奇幻漂流                52   \n",
       "98     116               كفرناحوم      何以为家                13   \n",
       "99     148              Inception      盗梦空间                53   \n",
       "\n",
       "                                               poster  rank  \\\n",
       "0   https://p0.meituan.net/movie/15f1ac49b6d1ff7b7...    10   \n",
       "1   https://p1.meituan.net/movie/6bea9af4524dfbd0b...     9   \n",
       "2   https://p1.meituan.net/movie/580d81a2c78bf204f...     8   \n",
       "3   https://p1.meituan.net/movie/ac8f0004928fbce5a...     7   \n",
       "4   https://p0.meituan.net/movie/61fea77024f83b370...     6   \n",
       "..                                                ...   ...   \n",
       "95  https://p1.meituan.net/movie/8236183afcf1bd0ff...    24   \n",
       "96  https://p0.meituan.net/moviemachine/7707dc3478...    23   \n",
       "97  https://p0.meituan.net/movie/cac99bd00d40586dc...    22   \n",
       "98  https://p1.meituan.net/movie/d28b729ffe72353a7...    21   \n",
       "99  https://p0.meituan.net/moviemachine/c2496a7290...    11   \n",
       "\n",
       "                 region  score               tag  \\\n",
       "0                  [美国]    8.9              [爱情]   \n",
       "1                  [法国]    9.4      [剧情, 动作, 犯罪]   \n",
       "2                 [意大利]    9.3      [战争, 剧情, 爱情]   \n",
       "3                  [日本]    8.1          [剧情, 犯罪]   \n",
       "4          [中国大陆, 中国香港]    9.4          [剧情, 爱情]   \n",
       "..                  ...    ...               ...   \n",
       "95             [美国, 英国]    9.3              [剧情]   \n",
       "96                 [美国]    8.6      [剧情, 惊悚, 犯罪]   \n",
       "97  [美国, 中国台湾, 英国, 加拿大]    9.0      [剧情, 奇幻, 冒险]   \n",
       "98                [黎巴嫩]    9.3              [剧情]   \n",
       "99             [美国, 英国]    9.0  [动作, 悬疑, 惊悚, 科幻]   \n",
       "\n",
       "                                     url  \n",
       "0     https://www.maoyan.com/films/46818  \n",
       "1      https://www.maoyan.com/films/4055  \n",
       "2      https://www.maoyan.com/films/1303  \n",
       "3   https://www.maoyan.com/films/1216365  \n",
       "4      https://www.maoyan.com/films/1203  \n",
       "..                                   ...  \n",
       "95    https://www.maoyan.com/films/38286  \n",
       "96  https://www.maoyan.com/films/1215201  \n",
       "97      https://www.maoyan.com/films/995  \n",
       "98  https://www.maoyan.com/films/1218727  \n",
       "99      https://www.maoyan.com/films/416  \n",
       "\n",
       "[100 rows x 15 columns]"
      ]
     },
     "execution_count": 7,
     "metadata": {},
     "output_type": "execute_result"
    }
   ],
   "source": [
    "import pandas as pd\n",
    "\n",
    "# read csv file\n",
    "top_100 = pd.read_csv('top100.csv', dtype={\n",
    "    'box_first_week': 'Int64',\n",
    "    'box_sum': 'Int64',\n",
    "    'celebrity': 'object',\n",
    "    'date': 'str',\n",
    "    'honor_count': 'Int64',\n",
    "    'length': 'Int64',\n",
    "    'name_alt': 'str',\n",
    "    'name_cn': 'str',\n",
    "    'nomination_count': 'Int64',\n",
    "    'poster': 'str',\n",
    "    'rank': 'Int64',\n",
    "    'region': 'object',\n",
    "    'score': 'float',\n",
    "    'tag': 'object',\n",
    "    'url': 'str',\n",
    "}, parse_dates=[\n",
    "    'date'\n",
    "])\n",
    "\n",
    "# cast data type\n",
    "top_100['celebrity'] = top_100['celebrity'].apply(eval) # to dict\n",
    "top_100['region'] = top_100['region'].apply(lambda s: s.split(',')) # to list\n",
    "top_100['tag'] = top_100['tag'].apply(lambda s: s.split(',')) # to list\n",
    "\n",
    "#for i, l in enumerate(top_100['tag']):\n",
    "#    print(type(l))\n",
    "# pd.Series([x for _list in top_100['tag'] for x in _list]).value_counts()\n",
    "\n",
    "# \n",
    "# show result\n",
    "top_100"
   ]
  },
  {
   "cell_type": "markdown",
   "id": "cb8111cf-da5f-4bb6-a815-4c58567ddeef",
   "metadata": {},
   "source": [
    "## Draw Plots"
   ]
  },
  {
   "cell_type": "markdown",
   "id": "e561def6-3a9d-4f60-878f-75052011ecdd",
   "metadata": {},
   "source": [
    "Import the seaborn library"
   ]
  },
  {
   "cell_type": "code",
   "execution_count": 8,
   "id": "a8b66d9b",
   "metadata": {
    "tags": []
   },
   "outputs": [],
   "source": [
    "import seaborn as sns\n",
    "\n",
    "# Fix zh_CN font\n",
    "# Make sure you have SimHei font installed in your system. \n",
    "# If not, install the font, clear the cache in ~/.cache/matplotlib, then restart jupyter\n",
    "sns.set(style=\"darkgrid\", font=\"SimHei\")"
   ]
  },
  {
   "cell_type": "markdown",
   "id": "f8b6a87f-70d4-4529-ad89-3a3a80dee2bd",
   "metadata": {},
   "source": [
    "### User rating distribution"
   ]
  },
  {
   "cell_type": "code",
   "execution_count": 11,
   "id": "6822ee3b-7cbe-4927-85b6-7f56c911b333",
   "metadata": {
    "tags": []
   },
   "outputs": [
    {
     "data": {
      "text/plain": [
       "<AxesSubplot:xlabel='score', ylabel='Count'>"
      ]
     },
     "execution_count": 11,
     "metadata": {},
     "output_type": "execute_result"
    },
    {
     "data": {
      "image/png": "[encoded data removed]",
      "text/plain": [
       "<Figure size 432x288 with 1 Axes>"
      ]
     },
     "metadata": {},
     "output_type": "display_data"
    }
   ],
   "source": [
    "sns.histplot(top_100, x='score', binwidth=0.1)"
   ]
  },
  {
   "cell_type": "markdown",
   "id": "f6f51503-b559-44be-be57-9e8dfef54146",
   "metadata": {},
   "source": [
    "### Date distibution"
   ]
  },
  {
   "cell_type": "code",
   "execution_count": 12,
   "id": "d1f9c6ad-1377-41f7-84e4-bfb35f013f6d",
   "metadata": {
    "tags": []
   },
   "outputs": [
    {
     "data": {
      "text/plain": [
       "<AxesSubplot:xlabel='date', ylabel='Count'>"
      ]
     },
     "execution_count": 12,
     "metadata": {},
     "output_type": "execute_result"
    },
    {
     "data": {
      "image/png": "[encoded data removed]",
      "text/plain": [
       "<Figure size 432x288 with 1 Axes>"
      ]
     },
     "metadata": {},
     "output_type": "display_data"
    }
   ],
   "source": [
    "sns.histplot(top_100, x='date', binwidth=365*3)"
   ]
  },
  {
   "cell_type": "markdown",
   "id": "90acec0e-89d1-490d-9be1-ca4d4ae34e7d",
   "metadata": {},
   "source": [
    "### Length distribution"
   ]
  },
  {
   "cell_type": "code",
   "execution_count": 13,
   "id": "a70dc39f-4a7a-49be-868d-4756874972b1",
   "metadata": {
    "tags": []
   },
   "outputs": [
    {
     "data": {
      "text/plain": [
       "<AxesSubplot:xlabel='length', ylabel='Count'>"
      ]
     },
     "execution_count": 13,
     "metadata": {},
     "output_type": "execute_result"
    },
    {
     "data": {
      "image/png": "[encoded data removed]",
      "text/plain": [
       "<Figure size 432x288 with 1 Axes>"
      ]
     },
     "metadata": {},
     "output_type": "display_data"
    }
   ],
   "source": [
    "sns.histplot(top_100, x='length', binwidth=10)"
   ]
  },
  {
   "cell_type": "markdown",
   "id": "43f91f23-2da8-4154-b542-faf0dc83a81e",
   "metadata": {},
   "source": [
    "### Scatterplot"
   ]
  },
  {
   "cell_type": "code",
   "execution_count": 14,
   "id": "5d19aadd-aca8-460a-937c-b28c282e5991",
   "metadata": {
    "tags": []
   },
   "outputs": [
    {
     "data": {
      "text/plain": [
       "<seaborn.axisgrid.FacetGrid at 0x7f825cd33400>"
      ]
     },
     "execution_count": 14,
     "metadata": {},
     "output_type": "execute_result"
    },
    {
     "data": {
      "image/png": "[encoded data removed]",
      "text/plain": [
       "<Figure size 416.1x360 with 1 Axes>"
      ]
     },
     "metadata": {},
     "output_type": "display_data"
    }
   ],
   "source": [
    "sns.relplot(data=top_100, x='date', y='length', size='score', sizes=(40,400), alpha=.5)"
   ]
  },
  {
   "cell_type": "markdown",
   "id": "017e6d65-3ab6-44b9-b02a-809dc4993b38",
   "metadata": {
    "tags": []
   },
   "source": [
    "### Tag count"
   ]
  },
  {
   "cell_type": "code",
   "execution_count": 10,
   "id": "4096a435-a177-4edd-9df8-6ef68103d3e9",
   "metadata": {},
   "outputs": [
    {
     "data": {
      "text/plain": [
       "<AxesSubplot:xlabel='count'>"
      ]
     },
     "execution_count": 10,
     "metadata": {},
     "output_type": "execute_result"
    },
    {
     "data": {
      "image/png": "[encoded data removed]",
      "text/plain": [
       "<Figure size 432x288 with 1 Axes>"
      ]
     },
     "metadata": {},
     "output_type": "display_data"
    }
   ],
   "source": [
    "df_flat_tag = pd.Series([x for _list in top_100['tag'] for x in _list])\n",
    "sns.countplot(y=df_flat_tag, order=df_flat_tag.value_counts().index)"
   ]
  },
  {
   "cell_type": "markdown",
   "id": "bdf1592b-6d25-41b6-9e17-ed69620751b5",
   "metadata": {},
   "source": [
    "### Region count"
   ]
  },
  {
   "cell_type": "code",
   "execution_count": 9,
   "id": "d7e9ec04-399a-4f18-94ca-8c8b42b743f8",
   "metadata": {},
   "outputs": [
    {
     "data": {
      "text/plain": [
       "<AxesSubplot:xlabel='count'>"
      ]
     },
     "execution_count": 9,
     "metadata": {},
     "output_type": "execute_result"
    },
    {
     "data": {
      "image/png": "[encoded data removed]",
      "text/plain": [
       "<Figure size 432x288 with 1 Axes>"
      ]
     },
     "metadata": {},
     "output_type": "display_data"
    }
   ],
   "source": [
    "df_flat_tag = pd.Series([x for _list in top_100['region'] for x in _list])\n",
    "sns.countplot(y=df_flat_tag, order=df_flat_tag.value_counts().index)"
   ]
  },
  {
   "cell_type": "code",
   "execution_count": null,
   "id": "b1293bd1-2388-44a2-8779-7bc0b1572ac4",
   "metadata": {},
   "outputs": [],
   "source": []
  }
 ],
 "metadata": {
  "kernelspec": {
   "display_name": "Python 3 (ipykernel)",
   "language": "python",
   "name": "python3"
  },
  "language_info": {
   "codemirror_mode": {
    "name": "ipython",
    "version": 3
   },
   "file_extension": ".py",
   "mimetype": "text/x-python",
   "name": "python",
   "nbconvert_exporter": "python",
   "pygments_lexer": "ipython3",
   "version": "3.9.7"
  }
 },
 "nbformat": 4,
 "nbformat_minor": 5
}
